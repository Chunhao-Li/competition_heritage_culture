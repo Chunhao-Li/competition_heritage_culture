{
 "cells": [
  {
   "cell_type": "code",
   "execution_count": 122,
   "metadata": {},
   "outputs": [],
   "source": [
    "import numpy as np\n",
    "import pandas as pd \n",
    "import json\n",
    "import os"
   ]
  },
  {
   "cell_type": "code",
   "execution_count": 123,
   "metadata": {},
   "outputs": [],
   "source": [
    "data_dir = \"../datasets/my_dataset/\""
   ]
  },
  {
   "cell_type": "code",
   "execution_count": 124,
   "metadata": {},
   "outputs": [],
   "source": [
    "schema_path = os.path.join(data_dir, 'schema.json')\n",
    "schema = open(schema_path, 'r')\n",
    "predicate_dict = {}\n",
    "ners = set()\n",
    "for l_idx, line in enumerate(schema):\n",
    "    tmp = json.loads(line)\n",
    "    predicate_dict[tmp['predicate']] = (tmp['subjtct_type'], tmp['object_type'])\n",
    "    ners.add(tmp['subjtct_type'])\n",
    "    ners.add(tmp['object_type'])"
   ]
  },
  {
   "cell_type": "code",
   "execution_count": 126,
   "metadata": {
    "scrolled": true
   },
   "outputs": [
    {
     "name": "stdout",
     "output_type": "stream",
     "text": [
      "19\n"
     ]
    },
    {
     "data": {
      "text/plain": [
       "{'相关文物': ('遗址文化', '文物藏品'),\n",
       " '所在地': ('遗址文化/单位机构', '地点'),\n",
       " '所属时代': ('遗址文化/文物藏品/人物', '历史时代'),\n",
       " '文物尺寸': ('文物藏品', '尺寸'),\n",
       " '面积大小': ('遗址文化/单位机构', '面积'),\n",
       " '发现时间': ('遗址文化/文物藏品', '时间'),\n",
       " '保存于': ('文物藏品', '单位机构'),\n",
       " '建设时间': ('遗址文化', '时间'),\n",
       " '文保级别': ('遗址文化', '保护级别'),\n",
       " '相关建筑': ('遗址文化', '建筑'),\n",
       " '相关人物': ('遗址文化/文物藏品/人物', '人物'),\n",
       " '相关单位': ('遗址文化', '单位机构'),\n",
       " '馆藏物品': ('单位机构', '文物藏品'),\n",
       " '文化类型': ('遗址文化', '文化'),\n",
       " '成立时间': ('单位机构', '时间'),\n",
       " '文化组成': ('遗址文化', '遗址文化'),\n",
       " '相关文献': ('遗址文化/文物藏品', '书籍文献'),\n",
       " '文物重量': ('文物藏品', '重量'),\n",
       " '馆长': ('单位机构', '人物')}"
      ]
     },
     "execution_count": 126,
     "metadata": {},
     "output_type": "execute_result"
    }
   ],
   "source": [
    "print(len(predicate_dict))\n",
    "predicate_dict"
   ]
  },
  {
   "cell_type": "code",
   "execution_count": 129,
   "metadata": {},
   "outputs": [
    {
     "data": {
      "text/plain": [
       "dict_keys(['相关文物', '所在地', '所属时代', '文物尺寸', '面积大小', '发现时间', '保存于', '建设时间', '文保级别', '相关建筑', '相关人物', '相关单位', '馆藏物品', '文化类型', '成立时间', '文化组成', '相关文献', '文物重量', '馆长'])"
      ]
     },
     "execution_count": 129,
     "metadata": {},
     "output_type": "execute_result"
    }
   ],
   "source": [
    "predicate_dict.keys()"
   ]
  },
  {
   "cell_type": "code",
   "execution_count": 130,
   "metadata": {},
   "outputs": [],
   "source": [
    "ners_set = set()\n",
    "for _, (n1, n2) in predicate_dict.items():\n",
    "    ners_set.add(n1)\n",
    "    ners_set.add(n2)"
   ]
  },
  {
   "cell_type": "code",
   "execution_count": 131,
   "metadata": {},
   "outputs": [
    {
     "name": "stdout",
     "output_type": "stream",
     "text": [
      "17\n"
     ]
    },
    {
     "data": {
      "text/plain": [
       "{'书籍文献',\n",
       " '人物',\n",
       " '保护级别',\n",
       " '单位机构',\n",
       " '历史时代',\n",
       " '地点',\n",
       " '尺寸',\n",
       " '建筑',\n",
       " '文化',\n",
       " '文物藏品',\n",
       " '时间',\n",
       " '遗址文化',\n",
       " '遗址文化/单位机构',\n",
       " '遗址文化/文物藏品',\n",
       " '遗址文化/文物藏品/人物',\n",
       " '重量',\n",
       " '面积'}"
      ]
     },
     "execution_count": 131,
     "metadata": {},
     "output_type": "execute_result"
    }
   ],
   "source": [
    "print(len(ners_set))\n",
    "ners_set"
   ]
  },
  {
   "cell_type": "code",
   "execution_count": 132,
   "metadata": {},
   "outputs": [],
   "source": [
    "import re\n",
    "# 处理数据\n",
    "\n",
    "def get_data(file_path, key_word):\n",
    "    with open(file_path, 'r', encoding='utf-8') as file:\n",
    "        docs = []\n",
    "        for l_idx, line in enumerate(file):\n",
    "            doc = {}\n",
    "            info = json.loads(line)\n",
    "            doc['doc_key'] = str(l_idx) + key_word\n",
    "            ori_sent = info['sentence']\n",
    "            if len(ori_sent) > 256:\n",
    "                print(len(ori_sent))\n",
    "            doc['sentences'] = [[ch for ch in ori_sent]] #TODO split into tokens\n",
    "            doc['ner'] = [[]]\n",
    "            doc['relations'] = [[]]\n",
    "            spos = info['spos']\n",
    "            entity_set = set()\n",
    "            for cur_spo in spos:\n",
    "                cur_rel = cur_spo['p']\n",
    "                 # 不在schema中 e.g. 馆长\n",
    "                if cur_rel not in predicate_dict:\n",
    "                    continue\n",
    "                s_ner, o_ner = predicate_dict[cur_rel]\n",
    "                sub = cur_spo['s']\n",
    "                obj = cur_spo['o']\n",
    "                sub_start_idx = ori_sent.find(sub)\n",
    "                sub_end_idx = sub_start_idx + len(sub) - 1\n",
    "                obj_start_idx = ori_sent.find(obj)\n",
    "                obj_end_idx = obj_start_idx + len(obj) - 1\n",
    "                if sub_start_idx != -1:\n",
    "                    doc['ner'][0].append([sub_start_idx, sub_end_idx, s_ner])\n",
    "                if obj_start_idx != -1:\n",
    "                    doc['ner'][0].append([obj_start_idx, obj_end_idx, o_ner])\n",
    "                if sub_start_idx != -1 and obj_start_idx != -1:\n",
    "\n",
    "                    doc['relations'][0].append([sub_start_idx, sub_end_idx, obj_start_idx, obj_end_idx, cur_rel])\n",
    "\n",
    "\n",
    "        #         if sub not in entity_set:\n",
    "        #             start_indexes = [substr.start() for substr in re.finditer(sub, ori_sent)]\n",
    "        #             for start_idx in start_indexes:\n",
    "        #                 end_idx = start_idx + len(sub) - 1 # [start, end]\n",
    "        #                 doc['ner'][0].append([start_idx, end_idx, s_ner])\n",
    "        #         if obj not in entity_set:\n",
    "        #             start_indexes = [substr.start() for substr in re.finditer(obj, ori_sent)]\n",
    "        #             for start_idx in start_indexes:\n",
    "        #                 end_idx = start_idx + len(obj) - 1 # [start, end]\n",
    "        #                 doc['ner'][0].append([start_idx, end_idx, o_ner])\n",
    "\n",
    "            docs.append(doc)\n",
    "        return docs\n",
    "\n"
   ]
  },
  {
   "cell_type": "code",
   "execution_count": 133,
   "metadata": {},
   "outputs": [
    {
     "name": "stdout",
     "output_type": "stream",
     "text": [
      "288\n",
      "334\n",
      "422\n",
      "346\n",
      "276\n",
      "285\n",
      "289\n",
      "266\n",
      "270\n",
      "272\n",
      "294\n",
      "288\n",
      "284\n",
      "270\n",
      "270\n",
      "262\n",
      "304\n",
      "269\n"
     ]
    }
   ],
   "source": [
    "data_processed_dir = \"../datasets/my_dataset_processed/\"\n",
    "train_path = os.path.join(data_dir, 'train.json')\n",
    "train_data = get_data(train_path, 'train')\n",
    "\n",
    "with open(os.path.join(data_processed_dir, 'train.json'),\"w\", encoding=\"utf-8\") as f:\n",
    "    for d in train_data:\n",
    "        f.write(json.dumps(d, ensure_ascii=False)+'\\n')\n",
    "\n",
    "eval_path = os.path.join(data_dir, 'eval.json')\n",
    "eval_data = get_data(eval_path, 'eval')\n",
    "\n",
    "with open(os.path.join(data_processed_dir, 'dev.json'),\"w\", encoding=\"utf-8\") as f:\n",
    "    for d in eval_data:\n",
    "        f.write(json.dumps(d, ensure_ascii=False)+'\\n')\n"
   ]
  },
  {
   "cell_type": "code",
   "execution_count": 141,
   "metadata": {},
   "outputs": [
    {
     "data": {
      "text/plain": [
       "742"
      ]
     },
     "execution_count": 141,
     "metadata": {},
     "output_type": "execute_result"
    }
   ],
   "source": [
    "count = 0\n",
    "for doc in eval_data:\n",
    "    count += len(doc['relations'][0])\n",
    "count "
   ]
  },
  {
   "cell_type": "code",
   "execution_count": null,
   "metadata": {},
   "outputs": [],
   "source": []
  },
  {
   "cell_type": "markdown",
   "metadata": {},
   "source": [
    "## baseline"
   ]
  },
  {
   "cell_type": "code",
   "execution_count": 112,
   "metadata": {},
   "outputs": [
    {
     "name": "stdout",
     "output_type": "stream",
     "text": [
      "(800, 5) (200, 5)\n"
     ]
    }
   ],
   "source": [
    "import json\n",
    "import pandas as pd\n",
    "\n",
    "examples = []\n",
    "with open(\"../datasets/my_dataset/train.json\",\"r\",encoding=\"utf-8\") as f:\n",
    "    for i in f.readlines():\n",
    "        examples.append(json.loads(i))\n",
    "train = pd.DataFrame(examples)\n",
    "train [\"idlength\"] = [len(i) for i in train [\"id\"]]\n",
    "train [\"slength\"] = [len(i) for i in train [\"sentence\"]]\n",
    "\n",
    "examples = []\n",
    "with open(\"../datasets/my_dataset/eval.json\",\"r\",encoding=\"utf-8\") as f:\n",
    "    for i in f.readlines():\n",
    "        examples.append(json.loads(i))\n",
    "eval = pd.DataFrame(examples)\n",
    "eval[\"idlength\"] = [len(i) for i in eval[\"id\"]]\n",
    "eval[\"slength\"] = [len(i) for i in eval[\"sentence\"]]\n",
    "print(train.shape,eval.shape)"
   ]
  },
  {
   "cell_type": "code",
   "execution_count": 115,
   "metadata": {},
   "outputs": [
    {
     "data": {
      "text/plain": [
       "(<AxesSubplot:>, <AxesSubplot:>)"
      ]
     },
     "execution_count": 115,
     "metadata": {},
     "output_type": "execute_result"
    },
    {
     "data": {
      "image/png": "[encoded data removed]",
      "text/plain": [
       "<Figure size 432x288 with 1 Axes>"
      ]
     },
     "metadata": {
      "needs_background": "light"
     },
     "output_type": "display_data"
    }
   ],
   "source": [
    "train[\"slength\"].hist(),eval[\"slength\"].hist()"
   ]
  },
  {
   "cell_type": "code",
   "execution_count": 118,
   "metadata": {
    "scrolled": true
   },
   "outputs": [
    {
     "data": {
      "text/plain": [
       "[{'subjtct_type': '遗址文化', 'predicate': '相关文物', 'object_type': '文物藏品'},\n",
       " {'subjtct_type': '遗址文化/单位机构', 'predicate': '所在地', 'object_type': '地点'},\n",
       " {'subjtct_type': '遗址文化/文物藏品/人物', 'predicate': '所属时代', 'object_type': '历史时代'},\n",
       " {'subjtct_type': '文物藏品', 'predicate': '文物尺寸', 'object_type': '尺寸'},\n",
       " {'subjtct_type': '遗址文化/单位机构', 'predicate': '面积大小', 'object_type': '面积'},\n",
       " {'subjtct_type': '遗址文化/文物藏品', 'predicate': '发现时间', 'object_type': '时间'},\n",
       " {'subjtct_type': '文物藏品', 'predicate': '保存于', 'object_type': '单位机构'},\n",
       " {'subjtct_type': '遗址文化', 'predicate': '建设时间', 'object_type': '时间'},\n",
       " {'subjtct_type': '遗址文化', 'predicate': '文保级别', 'object_type': '保护级别'},\n",
       " {'subjtct_type': '遗址文化', 'predicate': '相关建筑', 'object_type': '建筑'},\n",
       " {'subjtct_type': '遗址文化/文物藏品/人物', 'predicate': '相关人物', 'object_type': '人物'},\n",
       " {'subjtct_type': '遗址文化', 'predicate': '相关单位', 'object_type': '单位机构'},\n",
       " {'subjtct_type': '单位机构', 'predicate': '馆藏物品', 'object_type': '文物藏品'},\n",
       " {'subjtct_type': '遗址文化', 'predicate': '文化类型', 'object_type': '文化'},\n",
       " {'subjtct_type': '单位机构', 'predicate': '成立时间', 'object_type': '时间'},\n",
       " {'subjtct_type': '遗址文化', 'predicate': '文化组成', 'object_type': '遗址文化'},\n",
       " {'subjtct_type': '遗址文化/文物藏品', 'predicate': '相关文献', 'object_type': '书籍文献'},\n",
       " {'subjtct_type': '文物藏品', 'predicate': '文物重量', 'object_type': '重量'},\n",
       " {'subjtct_type': '单位机构', 'predicate': '馆长', 'object_type': '人物'}]"
      ]
     },
     "execution_count": 118,
     "metadata": {},
     "output_type": "execute_result"
    }
   ],
   "source": [
    "\n",
    "schema_list = []\n",
    "with open(\"../datasets/my_dataset/schema.json\",\"r\",encoding=\"utf-8\") as f:\n",
    "    for i in f.readlines():\n",
    "        schema_list.append(json.loads(i))\n",
    "schema_list"
   ]
  },
  {
   "cell_type": "code",
   "execution_count": 120,
   "metadata": {},
   "outputs": [],
   "source": [
    "def get_uie_data(df):\n",
    "    prompt_datas = []\n",
    "    for idx,rows in df.iterrows():\n",
    "        text = rows[\"sentence\"]\n",
    "        spo_list = rows[\"spos\"]\n",
    "        entitys = []\n",
    "        relations = []\n",
    "        for spo in spo_list:\n",
    "            pso = [(schema[\"subjtct_type\"],schema[\"object_type\"])for schema in schema_list if schema[\"predicate\"] == spo['p']][0]\n",
    "            if spo['s'] not in entitys:\n",
    "                entitys.append([spo['s'],pso[0]])\n",
    "            if spo['o'] not in entitys:\n",
    "                entitys.append([spo['o'],pso[1]])\n",
    "            if spo['p'] not in relations:\n",
    "                relations.append([spo['p'],spo['s'],spo['o']])\n",
    "        prompt_data = {}\n",
    "        prompt_data[\"text\"] = rows[\"sentence\"]\n",
    "        prompt_data[\"entities\"] = []\n",
    "        prompt_data[\"relations\"] = []\n",
    "        id_number = 0\n",
    "        for entity in entitys:\n",
    "            entity_pre = {}\n",
    "            entity_pre['id'] = id_number\n",
    "            entity_pre[\"start_offset\"] = text.index(entity[0])\n",
    "            entity_pre[\"end_offset\"] = text.index(entity[0])+len(entity[0])\n",
    "            entity_pre[\"label\"] = entity[1]\n",
    "            entity_pre[\"name\"] = entity[0]\n",
    "            prompt_data[\"entities\"].append(entity_pre)\n",
    "            id_number += 1\n",
    "\n",
    "        for relation in relations:\n",
    "            relation_pre = {}\n",
    "            from_id = [e['id'] for e in prompt_data[\"entities\"] if e['name']==relation[1]][0]\n",
    "            to_id = [e['id'] for e in prompt_data[\"entities\"] if e['name']==relation[2]][0]\n",
    "            relation_pre[\"from_id\"] = from_id\n",
    "            relation_pre[\"to_id\"] = to_id\n",
    "            relation_pre[\"type\"] = relation[0]\n",
    "            prompt_data[\"relations\"].append(relation_pre)\n",
    "        prompt_datas.append(prompt_data)\n",
    "    return prompt_datas\n",
    "\n",
    "data = get_uie_data(train)\n",
    "dev = get_uie_data(eval)"
   ]
  },
  {
   "cell_type": "code",
   "execution_count": null,
   "metadata": {},
   "outputs": [],
   "source": []
  },
  {
   "cell_type": "code",
   "execution_count": null,
   "metadata": {},
   "outputs": [],
   "source": []
  },
  {
   "cell_type": "code",
   "execution_count": 145,
   "metadata": {},
   "outputs": [
    {
     "name": "stdout",
     "output_type": "stream",
     "text": [
      "{'0': [[0, [[[0, 7], [19, 34], '所在地'], [[0, 7], [43, 64], '相关文献'], [[0, 7], [37, 39], '相关人物']]]], '1': [[0, [[[0, 5], [8, 10], '所在地'], [[0, 5], [100, 107], '文保级别'], [[0, 5], [28, 34], '相关文献']]]], '2': [[0, [[[0, 7], [80, 90], '保存于'], [[0, 7], [0, 1], '所属时代'], [[0, 7], [34, 37], '相关文献']]]], '3': [[0, [[[0, 8], [31, 36], '相关文献'], [[0, 8], [26, 30], '发现时间']]]], '4': [[0, [[[0, 7], [18, 29], '所在地'], [[0, 7], [8, 15], '发现时间'], [[0, 7], [70, 77], '文化组成']]]], '5': [[0, [[[0, 7], [10, 15], '所在地'], [[0, 7], [34, 38], '发现时间'], [[0, 7], [3, 4], '相关文物'], [[0, 7], [22, 28], '所属时代']]]], '6': [[0, [[[0, 3], [5, 14], '文保级别'], [[0, 3], [17, 18], '所在地'], [[0, 3], [17, 21], '文化组成'], [[0, 3], [63, 74], '相关单位'], [[17, 21], [5, 14], '文保级别']]]], '7': [[0, [[[9, 13], [0, 5], '所在地'], [[9, 13], [56, 60], '发现时间'], [[9, 13], [49, 54], '面积大小'], [[9, 13], [102, 106], '相关文物'], [[15, 21], [0, 5], '所在地'], [[15, 21], [56, 60], '发现时间'], [[15, 21], [102, 106], '相关文物']]]], '8': [[0, [[[0, 8], [33, 53], '所在地'], [[0, 8], [130, 134], '成立时间']]]], '9': [[0, [[[0, 5], [43, 52], '所在地'], [[0, 5], [113, 119], '成立时间']]]], '10': [[0, [[[0, 5], [161, 164], '馆藏物品'], [[0, 5], [152, 154], '馆藏物品'], [[0, 5], [136, 138], '馆藏物品'], [[0, 5], [140, 142], '馆藏物品'], [[0, 5], [148, 150], '馆藏物品'], [[0, 5], [156, 159], '馆藏物品'], [[0, 5], [132, 134], '馆藏物品'], [[0, 5], [144, 146], '馆藏物品'], [[0, 5], [8, 20], '所在地'], [[0, 5], [25, 29], '成立时间']]]], '11': [[0, [[[0, 10], [162, 164], '馆藏物品'], [[0, 10], [159, 160], '馆藏物品'], [[0, 10], [149, 157], '馆藏物品']]]], '12': [[0, []]], '13': [[0, [[[0, 5], [8, 20], '所在地'], [[0, 5], [70, 74], '成立时间']]]], '14': [[0, [[[0, 6], [194, 195], '馆藏物品'], [[0, 6], [191, 192], '馆藏物品'], [[0, 6], [197, 198], '馆藏物品'], [[0, 6], [9, 20], '所在地'], [[0, 6], [188, 189], '馆藏物品'], [[0, 6], [25, 29], '成立时间']]]], '15': [[0, [[[0, 5], [188, 190], '馆藏物品'], [[0, 5], [179, 180], '馆藏物品'], [[0, 5], [175, 177], '馆藏物品'], [[0, 5], [182, 183], '馆藏物品'], [[0, 5], [185, 186], '馆藏物品'], [[0, 5], [171, 173], '馆藏物品'], [[0, 5], [9, 15], '所在地'], [[0, 5], [279, 281], '馆藏物品'], [[0, 5], [268, 277], '馆藏物品'], [[0, 5], [17, 23], '成立时间'], [[0, 5], [257, 266], '馆藏物品'], [[0, 5], [142, 148], '馆藏物品']]]], '16': [[0, [[[0, 4], [27, 31], '成立时间'], [[0, 4], [35, 54], '所在地']]]], '17': [[0, [[[0, 6], [9, 15], '所在地'], [[0, 6], [20, 24], '成立时间']]]], '18': [[0, [[[1, 5], [136, 137], '相关文物'], [[1, 5], [143, 143], '相关文物'], [[1, 5], [141, 141], '相关文物'], [[1, 5], [139, 139], '相关文物'], [[1, 5], [160, 169], '文保级别'], [[1, 5], [23, 25], '所在地'], [[1, 5], [43, 46], '文化类型']]]], '19': [[0, [[[0, 10], [2, 3], '所在地'], [[0, 10], [46, 50], '文化类型'], [[0, 10], [11, 15], '所属时代']]]], '20': [[0, [[[9, 15], [158, 161], '所在地'], [[9, 15], [63, 67], '文化类型'], [[9, 15], [53, 59], '建设时间']]]], '21': [[0, [[[0, 3], [110, 117], '面积大小'], [[0, 3], [33, 38], '所在地'], [[0, 3], [8, 17], '发现时间'], [[0, 3], [19, 31], '相关单位'], [[0, 3], [46, 49], '文化类型']]]], '22': [[0, [[[0, 5], [68, 73], '面积大小'], [[0, 5], [30, 34], '所在地'], [[0, 5], [89, 96], '文保级别'], [[0, 5], [10, 18], '文化类型'], [[0, 5], [21, 24], '建设时间']]]], '23': [[0, [[[0, 4], [142, 143], '相关文物'], [[0, 4], [148, 150], '相关文物'], [[0, 4], [161, 162], '相关文物'], [[0, 4], [145, 146], '相关文物'], [[0, 4], [164, 165], '相关文物'], [[0, 4], [167, 168], '相关文物'], [[0, 4], [170, 171], '相关文物'], [[0, 4], [18, 25], '文保级别'], [[0, 4], [6, 8], '所在地'], [[0, 4], [64, 71], '面积大小'], [[0, 4], [44, 47], '文化类型'], [[0, 4], [38, 42], '文化类型'], [[0, 4], [28, 36], '文化类型']]]], '24': [[0, [[[0, 4], [9, 12], '面积大小'], [[0, 4], [38, 47], '文化类型'], [[0, 4], [53, 64], '所属时代']]]], '25': [[0, [[[0, 4], [7, 22], '所在地'], [[0, 4], [55, 59], '面积大小'], [[0, 4], [34, 38], '所属时代'], [[0, 4], [101, 105], '文化类型'], [[0, 4], [45, 49], '发现时间']]]], '26': [[0, [[[0, 11], [15, 28], '所在地']]]], '27': [[0, [[[0, 9], [63, 67], '所属时代'], [[0, 9], [73, 78], '所在地'], [[0, 9], [20, 27], '面积大小'], [[0, 9], [37, 60], '相关建筑'], [[0, 9], [93, 100], '相关单位']]]], '28': [[0, [[[53, 57], [0, 6], '发现时间'], [[53, 57], [8, 17], '相关单位']]]], '29': [[0, [[[0, 7], [12, 17], '所在地'], [[0, 7], [77, 78], '所属时代'], [[0, 7], [29, 33], '相关单位'], [[0, 7], [36, 41], '发现时间']]]], '30': [[0, [[[0, 6], [32, 40], '面积大小'], [[0, 6], [7, 11], '发现时间'], [[0, 6], [13, 18], '相关单位']]]], '31': [[0, [[[0, 3], [38, 42], '面积大小'], [[0, 3], [7, 15], '文保级别'], [[0, 3], [16, 24], '相关单位']]]], '32': [[0, [[[0, 8], [18, 26], '所在地'], [[0, 8], [136, 144], '文保级别'], [[0, 8], [126, 132], '相关单位']]]], '33': [[0, [[[0, 8], [155, 163], '文保级别'], [[0, 8], [145, 151], '相关单位'], [[0, 8], [11, 21], '所在地']]]], '34': [[0, [[[0, 4], [73, 76], '相关文物'], [[0, 4], [78, 88], '相关文物'], [[0, 4], [69, 71], '相关文物'], [[0, 4], [65, 67], '相关文物'], [[0, 4], [93, 102], '发现时间'], [[0, 4], [8, 13], '所在地'], [[0, 4], [22, 32], '文保级别'], [[0, 4], [104, 113], '相关单位'], [[0, 4], [40, 44], '所属时代'], [[0, 4], [46, 49], '所属时代'], [[0, 4], [132, 142], '相关建筑']]]], '35': [[0, [[[0, 4], [6, 11], '相关单位']]]], '36': [[0, [[[0, 5], [89, 108], '相关文物'], [[0, 5], [84, 87], '相关文物'], [[0, 5], [8, 13], '所在地'], [[0, 5], [176, 184], '文保级别'], [[0, 5], [42, 58], '相关单位'], [[0, 5], [60, 67], '相关单位'], [[0, 5], [25, 30], '发现时间']]]], '37': [[0, [[[0, 8], [12, 27], '所在地'], [[0, 8], [50, 59], '文保级别'], [[0, 8], [37, 41], '相关单位'], [[0, 8], [29, 34], '发现时间']]]], '38': [[0, [[[0, 9], [23, 30], '发现时间'], [[0, 9], [11, 17], '保存于'], [[0, 9], [68, 70], '相关人物']]]], '39': [[0, [[[0, 9], [2, 4], '相关人物'], [[0, 9], [32, 37], '成立时间']]]], '40': [[0, []]], '41': [[0, [[[0, 8], [13, 14], '所属时代'], [[0, 8], [31, 33], '相关人物']]]], '42': [[0, [[[0, 5], [10, 11], '所属时代'], [[0, 5], [94, 105], '保存于'], [[0, 5], [39, 41], '相关人物'], [[0, 5], [33, 37], '发现时间']]]], '43': [[0, [[[2, 11], [37, 45], '文物尺寸'], [[2, 11], [25, 33], '文物尺寸'], [[2, 11], [13, 14], '所属时代'], [[2, 11], [17, 21], '文物尺寸'], [[2, 11], [72, 74], '相关人物']]]], '44': [[0, [[[0, 3], [5, 8], '所属时代'], [[0, 3], [48, 56], '保存于'], [[0, 3], [9, 10], '相关人物']]]], '45': [[0, [[[0, 12], [38, 44], '文物尺寸'], [[0, 12], [48, 53], '文物尺寸'], [[0, 12], [14, 15], '所属时代'], [[0, 12], [28, 32], '保存于'], [[0, 12], [2, 4], '相关人物']]]], '46': [[0, [[[0, 2], [56, 59], '所属时代'], [[0, 2], [4, 8], '发现时间'], [[0, 2], [35, 37], '相关人物']]]], '47': [[0, [[[0, 12], [86, 90], '保存于'], [[0, 12], [17, 18], '所属时代'], [[0, 12], [101, 106], '文物尺寸'], [[0, 12], [110, 114], '文物尺寸'], [[0, 12], [27, 28], '相关人物']]]], '48': [[0, [[[0, 12], [17, 18], '所属时代'], [[0, 12], [105, 110], '保存于'], [[0, 12], [7, 9], '相关人物']]]], '49': [[0, [[[0, 7], [40, 58], '保存于'], [[0, 7], [8, 12], '发现时间'], [[0, 7], [0, 2], '相关人物']]]], '50': [[0, [[[0, 18], [23, 24], '所属时代'], [[0, 18], [112, 120], '保存于']]]], '51': [[0, [[[0, 5], [25, 28], '文物尺寸'], [[0, 5], [93, 98], '保存于'], [[0, 5], [16, 21], '文物尺寸'], [[0, 5], [10, 11], '所属时代']]]], '52': [[0, [[[0, 5], [25, 30], '文物尺寸'], [[0, 5], [17, 22], '文物尺寸'], [[0, 5], [8, 13], '文物尺寸'], [[0, 5], [32, 36], '发现时间'], [[0, 5], [76, 79], '所属时代'], [[0, 5], [51, 56], '保存于']]]], '53': [[0, [[[0, 4], [22, 27], '文物尺寸'], [[0, 4], [31, 33], '文物尺寸'], [[0, 4], [15, 18], '文物尺寸'], [[0, 4], [64, 74], '保存于'], [[0, 4], [0, 1], '所属时代']]]], '54': [[0, [[[0, 11], [26, 30], '文物尺寸'], [[0, 11], [85, 90], '保存于'], [[0, 11], [37, 41], '文物尺寸'], [[0, 11], [50, 54], '文物尺寸'], [[0, 11], [0, 3], '所属时代']]]], '55': [[0, [[[0, 6], [26, 30], '文物尺寸'], [[0, 6], [17, 22], '文物尺寸'], [[0, 6], [122, 128], '保存于'], [[0, 6], [9, 13], '文物尺寸']]]], '56': [[0, [[[0, 3], [54, 58], '面积大小'], [[0, 3], [6, 10], '所在地'], [[0, 3], [32, 36], '所属时代']]]], '57': [[0, [[[0, 12], [41, 46], '文物尺寸'], [[0, 12], [56, 61], '文物尺寸'], [[0, 12], [65, 70], '文物尺寸'], [[0, 12], [22, 26], '发现时间'], [[0, 12], [15, 20], '保存于']]]], '58': [[0, [[[0, 11], [76, 82], '保存于'], [[0, 11], [32, 36], '文物尺寸'], [[0, 11], [39, 44], '文物尺寸']]]], '59': [[0, [[[0, 9], [27, 31], '文物尺寸'], [[0, 9], [34, 37], '文物尺寸'], [[0, 9], [42, 45], '文物尺寸'], [[0, 9], [48, 51], '文物尺寸'], [[0, 9], [13, 16], '所属时代']]]], '60': [[0, [[[0, 4], [19, 27], '所属时代'], [[0, 4], [80, 89], '保存于'], [[0, 4], [9, 12], '所属时代']]]], '61': [[0, [[[0, 7], [23, 26], '文物尺寸'], [[0, 7], [56, 64], '保存于'], [[0, 7], [29, 33], '文物尺寸'], [[0, 7], [12, 15], '所属时代']]]], '62': [[0, [[[0, 4], [65, 76], '保存于'], [[0, 4], [17, 20], '文物尺寸'], [[0, 4], [23, 26], '文物尺寸'], [[0, 4], [29, 31], '文物尺寸'], [[0, 4], [9, 12], '所属时代']]]], '63': [[0, [[[0, 3], [105, 112], '保存于'], [[0, 3], [0, 1], '所属时代'], [[0, 3], [15, 17], '文物尺寸']]]], '64': [[0, [[[0, 15], [30, 35], '文物尺寸'], [[0, 15], [39, 42], '文物尺寸'], [[0, 15], [46, 49], '文物尺寸'], [[0, 15], [66, 76], '保存于'], [[0, 15], [0, 4], '所属时代']]]], '65': [[0, [[[0, 4], [54, 58], '保存于'], [[0, 4], [9, 13], '所属时代'], [[0, 4], [15, 20], '所属时代']]]], '66': [[0, [[[0, 8], [13, 21], '所属时代'], [[0, 8], [114, 124], '保存于']]]], '67': [[0, [[[0, 12], [24, 29], '文物尺寸'], [[0, 12], [41, 45], '文物尺寸'], [[0, 12], [33, 37], '文物尺寸'], [[0, 12], [75, 80], '保存于'], [[0, 12], [17, 18], '所属时代']]]], '68': [[0, [[[0, 9], [29, 34], '文物尺寸'], [[0, 9], [38, 43], '文物尺寸'], [[0, 9], [20, 25], '文物尺寸'], [[0, 9], [14, 15], '所属时代'], [[0, 9], [76, 81], '保存于']]]], '69': [[0, [[[0, 6], [88, 101], '保存于'], [[0, 6], [11, 12], '所属时代'], [[0, 6], [40, 44], '文物尺寸'], [[0, 6], [22, 29], '发现时间']]]], '70': [[0, [[[0, 6], [11, 12], '所属时代'], [[0, 6], [53, 66], '保存于'], [[0, 6], [22, 26], '建设时间']]]], '71': [[0, [[[0, 9], [74, 79], '保存于'], [[0, 9], [25, 28], '文物尺寸'], [[0, 9], [20, 22], '文物尺寸'], [[0, 9], [14, 15], '所属时代']]]], '72': [[0, [[[0, 7], [74, 78], '保存于'], [[0, 7], [30, 34], '文物尺寸'], [[0, 7], [24, 26], '文物尺寸'], [[0, 7], [12, 18], '所属时代']]]], '73': [[0, [[[0, 7], [84, 89], '保存于'], [[0, 7], [31, 35], '文物尺寸'], [[0, 7], [26, 28], '文物尺寸'], [[0, 7], [21, 23], '文物尺寸'], [[0, 7], [0, 3], '所属时代']]]], '74': [[0, [[[0, 4], [64, 69], '保存于'], [[0, 4], [24, 28], '文物尺寸'], [[0, 4], [17, 21], '文物尺寸'], [[0, 4], [31, 35], '文物尺寸'], [[0, 4], [9, 12], '所属时代']]]], '75': [[0, [[[0, 5], [18, 20], '文物尺寸'], [[0, 5], [23, 26], '文物尺寸'], [[0, 5], [48, 59], '保存于'], [[0, 5], [0, 1], '所属时代']]]], '76': [[0, [[[0, 5], [27, 30], '文物尺寸'], [[0, 5], [33, 37], '文物尺寸'], [[0, 5], [17, 22], '文物尺寸'], [[0, 5], [84, 89], '保存于'], [[0, 5], [10, 11], '所属时代']]]], '77': [[0, [[[0, 3], [89, 99], '保存于'], [[0, 3], [14, 29], '文物尺寸'], [[0, 3], [8, 9], '所属时代']]]], '78': [[0, [[[0, 5], [51, 52], '所属时代'], [[0, 5], [35, 38], '文物尺寸'], [[0, 5], [62, 66], '保存于'], [[0, 5], [42, 45], '文物尺寸']]]], '79': [[0, [[[0, 5], [27, 30], '文物尺寸'], [[0, 5], [21, 24], '文物尺寸'], [[0, 5], [33, 38], '文物尺寸'], [[0, 5], [10, 13], '所属时代'], [[0, 5], [69, 80], '保存于']]]], '80': [[0, [[[0, 3], [26, 29], '文物尺寸'], [[0, 3], [14, 17], '文物尺寸'], [[0, 3], [20, 23], '文物尺寸'], [[0, 3], [0, 1], '所属时代'], [[0, 3], [31, 40], '保存于']]]], '81': [[0, [[[0, 7], [18, 32], '文物尺寸'], [[0, 7], [85, 95], '保存于'], [[0, 7], [0, 1], '所属时代']]]], '82': [[0, [[[0, 12], [32, 37], '文物尺寸'], [[0, 12], [41, 46], '文物尺寸'], [[0, 12], [23, 28], '文物尺寸'], [[0, 12], [122, 127], '保存于'], [[0, 12], [0, 1], '所属时代']]]], '83': [[0, [[[0, 8], [13, 16], '所属时代'], [[0, 8], [92, 99], '保存于']]]], '84': [[0, [[[0, 7], [23, 28], '文物尺寸'], [[0, 7], [31, 36], '文物尺寸'], [[0, 7], [39, 41], '文物尺寸'], [[0, 7], [12, 15], '所属时代'], [[0, 7], [80, 91], '保存于']]]], '85': [[0, [[[0, 3], [21, 26], '文物尺寸'], [[0, 3], [87, 92], '保存于'], [[0, 3], [15, 18], '文物尺寸'], [[0, 3], [28, 32], '发现时间'], [[0, 3], [0, 1], '所属时代']]]], '86': [[0, [[[0, 3], [68, 79], '保存于'], [[0, 3], [17, 20], '文物尺寸'], [[0, 3], [11, 14], '文物尺寸'], [[0, 3], [5, 8], '文物尺寸']]]], '87': [[0, [[[0, 5], [65, 76], '保存于'], [[0, 5], [24, 27], '文物尺寸'], [[0, 5], [17, 20], '文物尺寸'], [[0, 5], [0, 1], '所属时代']]]], '88': [[0, [[[0, 4], [81, 82], '所属时代'], [[0, 4], [5, 9], '发现时间']]]], '89': [[0, [[[0, 7], [51, 62], '保存于']]]], '90': [[0, [[[0, 13], [45, 49], '文物尺寸'], [[0, 13], [39, 41], '文物尺寸'], [[0, 13], [18, 19], '所属时代'], [[0, 13], [55, 61], '保存于']]]], '91': [[0, [[[0, 14], [92, 98], '保存于'], [[0, 14], [19, 20], '所属时代']]]], '92': [[0, [[[0, 10], [0, 1], '所属时代'], [[0, 10], [68, 81], '保存于'], [[0, 10], [24, 30], '建设时间']]]], '93': [[0, [[[0, 3], [59, 64], '保存于'], [[0, 3], [0, 1], '所属时代']]]], '94': [[0, [[[0, 9], [81, 86], '文物尺寸'], [[0, 9], [90, 93], '文物尺寸'], [[0, 9], [52, 53], '所属时代']]]], '95': [[0, [[[0, 11], [64, 68], '保存于'], [[0, 11], [16, 17], '所属时代']]]], '96': [[0, [[[0, 11], [84, 89], '保存于'], [[0, 11], [23, 27], '文物尺寸'], [[0, 11], [31, 36], '文物尺寸'], [[0, 11], [0, 2], '所属时代']]]], '97': [[0, [[[0, 14], [91, 95], '保存于'], [[0, 14], [35, 40], '文物尺寸'], [[0, 14], [43, 46], '文物尺寸'], [[0, 14], [19, 20], '所属时代'], [[0, 14], [26, 31], '文物尺寸']]]], '98': [[0, [[[0, 4], [117, 126], '保存于'], [[0, 4], [22, 25], '文物尺寸'], [[0, 4], [28, 31], '文物尺寸'], [[0, 4], [15, 19], '文物尺寸'], [[0, 4], [9, 10], '所属时代'], [[0, 4], [47, 50], '发现时间']]]], '99': [[0, [[[0, 7], [111, 123], '保存于'], [[0, 7], [12, 13], '所属时代']]]], '100': [[0, [[[0, 7], [28, 33], '文物尺寸'], [[0, 7], [20, 25], '文物尺寸'], [[0, 7], [10, 11], '所属时代']]]], '101': [[0, [[[0, 4], [22, 25], '文物尺寸'], [[0, 4], [9, 10], '所属时代'], [[0, 4], [16, 19], '文物尺寸'], [[0, 4], [103, 114], '保存于']]]], '102': [[0, [[[0, 10], [22, 25], '文物尺寸'], [[0, 10], [105, 117], '保存于'], [[0, 10], [15, 16], '所属时代']]]], '103': [[0, [[[0, 6], [51, 56], '文物尺寸'], [[0, 6], [45, 48], '文物尺寸'], [[0, 6], [62, 67], '保存于'], [[0, 6], [11, 12], '所属时代']]]], '104': [[0, [[[0, 8], [122, 126], '保存于'], [[0, 8], [13, 14], '所属时代']]]], '105': [[0, [[[0, 5], [93, 98], '保存于'], [[0, 5], [10, 11], '所属时代'], [[0, 5], [17, 20], '文物尺寸']]]], '106': [[0, [[[0, 10], [81, 86], '保存于'], [[0, 10], [21, 26], '文物尺寸'], [[0, 10], [37, 42], '文物尺寸'], [[0, 10], [30, 33], '文物尺寸'], [[0, 10], [15, 16], '所属时代']]]], '107': [[0, [[[0, 7], [53, 57], '面积大小']]]], '108': [[0, [[[0, 9], [13, 18], '保存于']]]], '109': [[0, [[[0, 11], [22, 34], '文物尺寸'], [[0, 11], [108, 116], '保存于']]]], '110': [[0, [[[0, 3], [92, 99], '保存于'], [[0, 3], [8, 9], '所属时代']]]], '111': [[0, [[[0, 4], [21, 22], '所属时代']]]], '112': [[0, [[[24, 29], [41, 51], '文物尺寸'], [[0, 6], [24, 29], '馆藏物品']]]], '113': [[0, [[[0, 7], [29, 33], '文物尺寸'], [[0, 7], [59, 67], '保存于'], [[0, 7], [24, 26], '文物尺寸'], [[0, 7], [18, 21], '文物尺寸']]]], '114': [[0, [[[0, 9], [63, 67], '保存于'], [[0, 9], [26, 29], '文物尺寸'], [[0, 9], [20, 23], '文物尺寸'], [[0, 9], [32, 35], '文物尺寸'], [[0, 9], [14, 15], '所属时代']]]], '115': [[0, [[[0, 8], [93, 99], '保存于'], [[0, 8], [0, 3], '所属时代']]]], '116': [[0, [[[0, 4], [5, 6], '所属时代']]]], '117': [[0, [[[0, 5], [10, 11], '所属时代'], [[0, 5], [101, 111], '保存于'], [[0, 5], [80, 84], '发现时间']]]], '118': [[0, [[[0, 10], [13, 20], '所在地']]]], '119': [[0, [[[13, 21], [30, 38], '所在地']]]], '120': [[0, [[[0, 8], [78, 83], '保存于'], [[0, 8], [32, 34], '文物尺寸'], [[0, 8], [26, 28], '文物尺寸'], [[0, 8], [19, 22], '文物尺寸']]]], '121': [[0, [[[0, 17], [111, 117], '保存于'], [[0, 17], [40, 45], '文物尺寸'], [[0, 17], [49, 52], '文物尺寸'], [[0, 17], [31, 36], '文物尺寸']]]], '122': [[0, [[[0, 12], [26, 31], '文物尺寸'], [[0, 12], [44, 49], '文物尺寸'], [[0, 12], [35, 40], '文物尺寸'], [[0, 12], [76, 82], '保存于']]]], '123': [[0, [[[0, 9], [26, 43], '所在地']]]], '124': [[0, [[[2, 6], [33, 37], '文物尺寸'], [[2, 6], [24, 29], '文物尺寸'], [[2, 6], [17, 20], '文物尺寸'], [[2, 6], [94, 104], '保存于'], [[2, 6], [0, 1], '所属时代']]]], '125': [[0, [[[0, 5], [10, 11], '所属时代'], [[0, 5], [25, 29], '文物尺寸'], [[0, 5], [17, 22], '文物尺寸'], [[0, 5], [108, 112], '保存于']]]], '126': [[0, [[[0, 13], [32, 37], '文物尺寸'], [[0, 13], [24, 29], '文物尺寸'], [[0, 13], [65, 70], '保存于'], [[0, 13], [18, 19], '所属时代']]]], '127': [[0, [[[0, 9], [29, 33], '文物尺寸'], [[0, 9], [21, 25], '文物尺寸'], [[0, 9], [36, 39], '文物尺寸'], [[0, 9], [89, 93], '保存于'], [[0, 9], [14, 15], '所属时代']]]], '128': [[0, [[[0, 8], [28, 32], '文物尺寸'], [[0, 8], [19, 24], '文物尺寸'], [[0, 8], [36, 40], '文物尺寸'], [[0, 8], [74, 79], '保存于'], [[0, 8], [13, 14], '所属时代']]]], '129': [[0, [[[2, 13], [25, 30], '文物尺寸'], [[2, 13], [121, 127], '保存于'], [[2, 13], [34, 39], '文物尺寸'], [[2, 13], [43, 48], '文物尺寸'], [[2, 13], [0, 1], '所属时代']]]], '130': [[0, [[[2, 3], [0, 1], '所属时代'], [[2, 3], [25, 29], '文物尺寸'], [[2, 3], [60, 71], '保存于'], [[2, 3], [17, 22], '文物尺寸']]]], '131': [[0, [[[2, 9], [28, 32], '文物尺寸'], [[2, 9], [62, 67], '保存于'], [[2, 9], [0, 1], '所属时代'], [[2, 9], [36, 40], '文物尺寸'], [[2, 9], [20, 24], '文物尺寸']]]], '132': [[0, [[[2, 10], [21, 26], '文物尺寸'], [[2, 10], [38, 42], '文物尺寸'], [[2, 10], [30, 34], '文物尺寸'], [[2, 10], [0, 1], '所属时代'], [[2, 10], [92, 97], '保存于']]]], '133': [[0, [[[0, 4], [7, 8], '所在地']]]], '134': [[0, [[[0, 5], [10, 12], '所在地']]]], '135': [[0, [[[0, 12], [15, 19], '文物尺寸']]]], '136': [[0, [[[0, 5], [7, 25], '文物尺寸']]]], '137': [[0, [[[0, 7], [27, 31], '文物尺寸'], [[0, 7], [64, 68], '保存于'], [[0, 7], [36, 41], '文物尺寸'], [[0, 7], [17, 23], '文物尺寸'], [[0, 7], [12, 13], '所属时代']]]], '138': [[0, [[[4, 15], [29, 34], '文物尺寸'], [[4, 15], [39, 44], '文物尺寸'], [[4, 15], [65, 76], '保存于'], [[4, 15], [0, 1], '所属时代']]]], '139': [[0, [[[2, 10], [0, 1], '所属时代'], [[2, 10], [43, 47], '文物尺寸'], [[2, 10], [78, 83], '保存于'], [[2, 10], [24, 28], '文物尺寸'], [[2, 10], [33, 37], '文物尺寸']]]], '140': [[0, [[[0, 2], [37, 38], '所属时代']]]], '141': [[0, [[[2, 9], [0, 1], '所属时代'], [[2, 9], [90, 98], '保存于'], [[2, 9], [21, 23], '文物尺寸']]]], '142': [[0, [[[7, 15], [41, 45], '文物尺寸'], [[7, 15], [26, 31], '文物尺寸'], [[7, 15], [35, 37], '文物尺寸'], [[7, 15], [72, 77], '保存于'], [[7, 15], [20, 21], '所属时代']]]], '143': [[0, [[[0, 4], [8, 15], '所在地']]]], '144': [[0, [[[0, 5], [8, 14], '所在地']]]], '145': [[0, [[[0, 6], [30, 31], '所属时代']]]], '146': [[0, [[[0, 6], [99, 105], '保存于'], [[0, 6], [20, 25], '文物尺寸'], [[0, 6], [30, 33], '文物尺寸'], [[0, 6], [37, 51], '文物尺寸']]]], '147': [[0, [[[0, 3], [114, 120], '保存于'], [[0, 3], [57, 57], '所属时代']]]], '148': [[0, [[[4, 8], [21, 26], '文物尺寸'], [[4, 8], [30, 35], '文物尺寸'], [[4, 8], [38, 43], '文物尺寸'], [[4, 8], [80, 85], '保存于'], [[4, 8], [0, 3], '所属时代']]]], '149': [[0, [[[0, 6], [31, 32], '面积大小'], [[0, 6], [51, 54], '面积大小'], [[0, 6], [44, 45], '面积大小']]]], '150': [[0, [[[0, 8], [79, 89], '保存于'], [[0, 8], [0, 4], '所属时代']]]], '151': [[0, [[[0, 9], [28, 33], '文物尺寸'], [[0, 9], [91, 101], '保存于'], [[0, 9], [0, 4], '所属时代']]]], '152': [[0, [[[0, 9], [27, 31], '文物尺寸'], [[0, 9], [34, 37], '文物尺寸'], [[0, 9], [42, 45], '文物尺寸'], [[0, 9], [48, 51], '文物尺寸'], [[0, 9], [13, 16], '所属时代']]]], '153': [[0, [[[0, 7], [80, 84], '保存于'], [[0, 7], [12, 13], '所属时代']]]], '154': [[0, [[[0, 7], [26, 31], '文物尺寸'], [[0, 7], [11, 15], '文物尺寸'], [[0, 7], [19, 22], '文物尺寸'], [[0, 7], [49, 53], '文物尺寸']]]], '155': [[0, [[[4, 8], [21, 25], '文物尺寸'], [[4, 8], [28, 32], '文物尺寸'], [[4, 8], [35, 39], '文物尺寸'], [[4, 8], [74, 79], '保存于'], [[4, 8], [0, 3], '所属时代']]]], '156': [[0, [[[0, 4], [36, 54], '所在地']]]], '157': [[0, [[[0, 8], [24, 32], '文物尺寸'], [[0, 8], [113, 121], '保存于'], [[0, 8], [19, 20], '文物尺寸'], [[0, 8], [39, 43], '发现时间']]]], '158': [[0, [[[0, 3], [25, 29], '文物尺寸'], [[0, 3], [18, 22], '文物尺寸'], [[0, 3], [8, 11], '所属时代'], [[0, 3], [64, 73], '保存于']]]], '159': [[0, [[[0, 8], [13, 16], '所属时代'], [[0, 8], [71, 78], '保存于']]]], '160': [[0, [[[0, 7], [93, 104], '保存于']]]], '161': [[0, [[[0, 4], [87, 98], '保存于'], [[0, 4], [15, 19], '文物尺寸'], [[0, 4], [73, 77], '文物尺寸'], [[0, 4], [0, 1], '所属时代']]]], '162': [[0, [[[0, 3], [30, 39], '文物尺寸'], [[0, 3], [16, 19], '文物尺寸'], [[0, 3], [22, 25], '文物尺寸'], [[0, 3], [75, 86], '保存于'], [[0, 3], [0, 1], '所属时代']]]], '163': [[0, [[[10, 15], [0, 9], '所在地']]]], '164': [[0, [[[0, 8], [11, 13], '所在地']]]], '165': [[0, [[[147, 150], [153, 161], '所在地'], [[0, 2], [27, 28], '所属时代'], [[147, 150], [0, 2], '相关人物'], [[147, 150], [27, 28], '所属时代']]]], '166': [[0, [[[0, 7], [11, 17], '所在地']]]], '167': [[0, [[[0, 13], [122, 127], '保存于'], [[0, 13], [24, 29], '文物尺寸'], [[0, 13], [33, 36], '文物尺寸'], [[0, 13], [40, 44], '文物尺寸'], [[0, 13], [18, 19], '所属时代']]]], '168': [[0, [[[0, 6], [84, 89], '保存于'], [[0, 6], [25, 29], '文物尺寸'], [[0, 6], [17, 22], '文物尺寸'], [[0, 6], [11, 12], '所属时代']]]], '169': [[0, [[[0, 13], [71, 76], '保存于'], [[0, 13], [24, 28], '文物尺寸'], [[0, 13], [40, 44], '文物尺寸'], [[0, 13], [32, 36], '文物尺寸'], [[0, 13], [18, 19], '所属时代']]]], '170': [[0, [[[0, 12], [27, 30], '文物尺寸'], [[0, 12], [85, 89], '保存于'], [[0, 12], [17, 18], '所属时代'], [[0, 12], [33, 34], '文物尺寸']]]], '171': [[0, [[[0, 7], [12, 14], '所属时代'], [[0, 7], [19, 24], '文物尺寸'], [[0, 7], [112, 120], '保存于']]]], '172': [[0, [[[0, 7], [74, 85], '保存于'], [[0, 7], [39, 42], '文物尺寸'], [[0, 7], [45, 48], '文物尺寸'], [[0, 7], [30, 33], '文物尺寸'], [[0, 7], [24, 27], '文物尺寸'], [[0, 7], [0, 1], '所属时代']]]], '173': [[0, [[[0, 7], [119, 125], '保存于'], [[0, 7], [79, 80], '所属时代']]]], '174': [[0, [[[0, 6], [106, 111], '保存于'], [[0, 6], [11, 12], '所属时代']]]], '175': [[0, [[[0, 7], [40, 43], '文物尺寸'], [[0, 7], [32, 37], '文物尺寸'], [[0, 7], [24, 25], '所属时代'], [[0, 7], [106, 112], '保存于']]]], '176': [[0, [[[0, 4], [21, 24], '文物尺寸'], [[0, 4], [97, 106], '保存于'], [[0, 4], [27, 31], '文物尺寸'], [[0, 4], [15, 18], '文物尺寸'], [[0, 4], [9, 10], '所属时代']]]], '177': [[0, [[[0, 12], [42, 47], '文物尺寸'], [[0, 12], [24, 29], '文物尺寸'], [[0, 12], [83, 89], '保存于'], [[0, 12], [17, 18], '所属时代']]]], '178': [[0, [[[0, 5], [6, 7], '所属时代']]]], '179': [[0, [[[3, 4], [0, 1], '所属时代']]]], '180': [[0, [[[0, 3], [16, 17], '所属时代'], [[0, 3], [5, 12], '保存于']]]], '181': [[0, [[[0, 6], [9, 10], '所属时代'], [[0, 6], [7, 7], '所属时代']]]], '182': [[0, [[[0, 3], [8, 9], '所属时代'], [[0, 3], [97, 101], '文物尺寸'], [[0, 3], [69, 73], '发现时间'], [[0, 3], [116, 122], '保存于'], [[0, 3], [107, 114], '保存于']]]], '183': [[0, [[[0, 5], [10, 11], '所属时代'], [[0, 5], [30, 35], '文物尺寸'], [[0, 5], [23, 26], '文物尺寸'], [[0, 5], [38, 41], '文物尺寸'], [[0, 5], [80, 84], '保存于'], [[0, 5], [17, 19], '文物尺寸']]]], '184': [[0, [[[0, 7], [10, 11], '所属时代'], [[0, 7], [17, 22], '文物尺寸'], [[0, 7], [26, 29], '文物尺寸'], [[0, 7], [34, 38], '保存于']]]], '185': [[0, [[[0, 5], [9, 17], '所在地']]]], '186': [[0, [[[0, 11], [28, 34], '文物尺寸'], [[0, 11], [115, 123], '保存于'], [[0, 11], [16, 22], '所属时代'], [[0, 11], [38, 43], '文物尺寸']]]], '187': [[0, [[[0, 8], [11, 23], '所在地']]]], '188': [[0, [[[0, 8], [76, 87], '保存于'], [[0, 8], [0, 1], '所属时代']]]], '189': [[0, [[[0, 4], [7, 26], '所在地']]]], '190': [[0, [[[0, 4], [12, 38], '所在地']]]], '191': [[0, [[[0, 4], [5, 8], '所属时代'], [[0, 4], [39, 42], '文物尺寸'], [[0, 4], [25, 32], '保存于']]]], '192': [[0, [[[0, 8], [38, 41], '文物尺寸'], [[0, 8], [30, 34], '文物尺寸'], [[0, 8], [107, 113], '保存于']]]], '193': [[0, [[[0, 5], [103, 110], '保存于'], [[0, 5], [10, 11], '所属时代'], [[0, 5], [17, 20], '文物尺寸'], [[0, 5], [23, 26], '文物尺寸']]]], '194': [[0, [[[0, 5], [26, 30], '文物尺寸'], [[0, 5], [17, 22], '文物尺寸'], [[0, 5], [90, 95], '保存于'], [[0, 5], [10, 11], '所属时代']]]], '195': [[0, [[[0, 8], [75, 78], '相关文物'], [[0, 8], [70, 73], '相关文物'], [[0, 8], [67, 68], '相关文物'], [[0, 8], [27, 29], '所在地'], [[0, 8], [34, 40], '面积大小'], [[0, 8], [11, 16], '所在地']]]], '196': [[0, [[[0, 6], [24, 25], '所属时代']]]], '197': [[0, [[[0, 8], [11, 24], '所在地'], [[0, 8], [26, 32], '成立时间'], [[0, 8], [59, 61], '相关人物'], [[0, 8], [55, 57], '相关人物'], [[0, 8], [63, 65], '相关人物']]]], '198': [[0, [[[29, 32], [114, 123], '保存于'], [[29, 32], [4, 5], '所属时代'], [[29, 32], [21, 26], '文物重量'], [[29, 32], [11, 15], '文物尺寸']]]], '199': [[0, [[[0, 4], [19, 24], '文物尺寸'], [[0, 4], [110, 119], '保存于'], [[0, 4], [27, 29], '文物尺寸'], [[0, 4], [9, 10], '所属时代'], [[0, 4], [32, 37], '文物重量'], [[0, 4], [44, 49], '文物重量']]]]}\n"
     ]
    }
   ],
   "source": [
    "\n",
    "\n",
    "\n",
    "\n",
    "with open('./bert_models/re-roberta-zh-1/pred_results.json','r', encoding = 'utf8') as f:\n",
    "    for line in f:\n",
    "        print(json.loads(line))\n",
    "        break"
   ]
  }
 ],
 "metadata": {
  "kernelspec": {
   "display_name": "Python 3",
   "language": "python",
   "name": "python3"
  },
  "language_info": {
   "codemirror_mode": {
    "name": "ipython",
    "version": 3
   },
   "file_extension": ".py",
   "mimetype": "text/x-python",
   "name": "python",
   "nbconvert_exporter": "python",
   "pygments_lexer": "ipython3",
   "version": "3.7.5"
  }
 },
 "nbformat": 4,
 "nbformat_minor": 4
}
